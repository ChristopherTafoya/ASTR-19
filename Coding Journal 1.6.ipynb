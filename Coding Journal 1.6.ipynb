{
 "cells": [
  {
   "cell_type": "code",
   "execution_count": 6,
   "id": "f2854d2c-db46-411b-a1ba-9957e18088ee",
   "metadata": {},
   "outputs": [],
   "source": [
    "import numpy as np\n",
    "\n",
    "def sin_func(x):\n",
    "    \"\"\"\n",
    "    Returns the sine of x.\n",
    "    \n",
    "    Parameters:\n",
    "    x : float or array-like\n",
    "        The input value(s) in radians.\n",
    "    \n",
    "    Returns:\n",
    "    float or array-like\n",
    "        The sine of x.\n",
    "    \"\"\"\n",
    "    return np.sin(x)\n",
    "    "
   ]
  },
  {
   "cell_type": "code",
   "execution_count": 5,
   "id": "8fa2e84f-0a89-4873-a65f-66d2e3cb2ecc",
   "metadata": {},
   "outputs": [],
   "source": [
    "def cos_func(x):\n",
    "    \"\"\"\n",
    "    Returns the cosine of x.\n",
    "    \n",
    "    Parameters:\n",
    "    x : float or array-like\n",
    "        The input value(s) in radians.\n",
    "    \n",
    "    Returns:\n",
    "    float or array-like\n",
    "        The cosine of x.\n",
    "    \"\"\"\n",
    "    return np.cos(x)\n",
    "    "
   ]
  },
  {
   "cell_type": "code",
   "execution_count": 4,
   "id": "5eb48345-445c-45ad-a894-780078ff4b3c",
   "metadata": {},
   "outputs": [],
   "source": [
    "# Number of points\n",
    "num_entries = 1000\n",
    "\n",
    "# Generate x values\n",
    "x_values = np.linspace(0, 2, num_entries)\n",
    "\n",
    "# Compute sin(x) and cos(x) using our functions\n",
    "sin_values = sin_func(x_values)\n",
    "cos_values = cos_func(x_values)\n"
   ]
  },
  {
   "cell_type": "code",
   "execution_count": 7,
   "id": "be4764e0-6b84-4c6b-9de9-4b248dd21f98",
   "metadata": {},
   "outputs": [
    {
     "name": "stdout",
     "output_type": "stream",
     "text": [
      "         x     sin(x)     cos(x)\n",
      "--------------------------------\n",
      "   0.00000    0.00000    1.00000\n",
      "   0.00200    0.00200    1.00000\n",
      "   0.00400    0.00400    0.99999\n",
      "   0.00601    0.00601    0.99998\n",
      "   0.00801    0.00801    0.99997\n",
      "   0.01001    0.01001    0.99995\n",
      "   0.01201    0.01201    0.99993\n",
      "   0.01401    0.01401    0.99990\n",
      "   0.01602    0.01602    0.99987\n",
      "   0.01802    0.01802    0.99984\n"
     ]
    }
   ],
   "source": [
    "# Print table header\n",
    "print(f\"{'x':>10} {'sin(x)':>10} {'cos(x)':>10}\")\n",
    "print(\"-\" * 32)\n",
    "\n",
    "# Print first 10 values\n",
    "for i in range(10):\n",
    "    print(f\"{x_values[i]:10.5f} {sin_values[i]:10.5f} {cos_values[i]:10.5f}\")\n"
   ]
  },
  {
   "cell_type": "code",
   "execution_count": null,
   "id": "156a118c-a773-41b5-9f8a-ba5f0b7d96e3",
   "metadata": {},
   "outputs": [],
   "source": []
  }
 ],
 "metadata": {
  "kernelspec": {
   "display_name": "Python 3 (ipykernel)",
   "language": "python",
   "name": "python3"
  },
  "language_info": {
   "codemirror_mode": {
    "name": "ipython",
    "version": 3
   },
   "file_extension": ".py",
   "mimetype": "text/x-python",
   "name": "python",
   "nbconvert_exporter": "python",
   "pygments_lexer": "ipython3",
   "version": "3.13.7"
  }
 },
 "nbformat": 4,
 "nbformat_minor": 5
}
